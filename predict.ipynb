{
 "cells": [
  {
   "cell_type": "code",
   "execution_count": null,
   "id": "db93b7fd-3693-4f00-84a1-8a82dbf307a5",
   "metadata": {},
   "outputs": [],
   "source": [
    "from pyimagesearch import config\n",
    "from tensorflow.keras.preprocessing.image import img_to_array\n",
    "from tensorflow.keras.preprocessing.image import load_img\n",
    "from tensorflow.keras.models import load_model\n",
    "import numpy as np\n",
    "import mimetypes\n",
    "import argparse\n",
    "import imutils\n",
    "import cv2\n",
    "import os"
   ]
  },
  {
   "cell_type": "code",
   "execution_count": null,
   "id": "a9384df6-1f24-4dc8-b182-1de5eff403ec",
   "metadata": {},
   "outputs": [],
   "source": [
    "ap = argparse.ArgumentParser()\n",
    "ap.add_argument(\"-i\", \"--input\", required=True,\n",
    "help=\"path to input image/text file of image filenames\")\n",
    "args = vars(ap.parse_args())"
   ]
  },
  {
   "cell_type": "code",
   "execution_count": null,
   "id": "09a59b87-a074-4eab-bd77-518a3b45641b",
   "metadata": {},
   "outputs": [],
   "source": [
    "filetype = mimetypes.guess_type(args[\"input\"])[0]\n",
    "imagePaths = [args[\"input\"]]"
   ]
  },
  {
   "cell_type": "code",
   "execution_count": null,
   "id": "86a171e3-8904-480a-9bf9-7b25fa300cbf",
   "metadata": {},
   "outputs": [],
   "source": [
    "filenames = open(args[\"input\"]).read().strip().split(\"\\n\")\n",
    "imagePaths = []"
   ]
  },
  {
   "cell_type": "code",
   "execution_count": null,
   "id": "bdfef5df-8235-4f73-af19-080f39eebac2",
   "metadata": {},
   "outputs": [],
   "source": [
    "for f in filenames:\n",
    "    p = os.path.sep.join([config.IMAGES_PATH, f])\n",
    "    imagePaths.append(p)"
   ]
  },
  {
   "cell_type": "code",
   "execution_count": null,
   "id": "c5fb85be-7f4e-4d66-ba14-1a6b46984ba9",
   "metadata": {},
   "outputs": [],
   "source": [
    "print(\"[INFO] loading object detector...\")\n",
    "model = load_model(config.MODEL_PATH)"
   ]
  },
  {
   "cell_type": "code",
   "execution_count": null,
   "id": "5de6d414-92b0-4d98-b754-ba174328783d",
   "metadata": {},
   "outputs": [],
   "source": [
    "for imagePath in imagePaths:\n",
    "    image = load_img(imagePath, target_size=(224, 224))\n",
    "    image = img_to_array(image) / 255.0\n",
    "    image = np.expand_dims(image, axis=0)"
   ]
  },
  {
   "cell_type": "code",
   "execution_count": null,
   "id": "80d0f0bf-55e5-46f0-a396-84352a2ab8ef",
   "metadata": {},
   "outputs": [],
   "source": [
    "preds = model.predict(image)[0]\n",
    "(startX, startY, endX, endY) = preds"
   ]
  },
  {
   "cell_type": "code",
   "execution_count": null,
   "id": "3381c3e4-63b5-4a5d-bac8-cf7e3ea8c7c2",
   "metadata": {},
   "outputs": [],
   "source": [
    "image = cv2.imread(imagePath)\n",
    "image = imutils.resize(image, width=600)\n",
    "(h, w) = image.shape[:2]\n",
    "# scale the predicted bounding box coordinates based on the image\n",
    "# dimensions\n",
    "startX = int(startX * w)\n",
    "startY = int(startY * h)\n",
    "endX = int(endX * w)\n",
    "endY = int(endY * h)"
   ]
  },
  {
   "cell_type": "code",
   "execution_count": null,
   "id": "685e7b63-a7a6-4ef9-ac7d-5f253e8b9dfe",
   "metadata": {},
   "outputs": [],
   "source": [
    "cv2.rectangle(image, (startX, startY), (endX, endY),\n",
    "(0, 255, 0), 2)\n",
    "# show the output image\n",
    "cv2.imshow(\"Output\", image)\n",
    "cv2.waitKey(0)"
   ]
  }
 ],
 "metadata": {
  "kernelspec": {
   "display_name": "Python 3 (ipykernel)",
   "language": "python",
   "name": "python3"
  },
  "language_info": {
   "codemirror_mode": {
    "name": "ipython",
    "version": 3
   },
   "file_extension": ".py",
   "mimetype": "text/x-python",
   "name": "python",
   "nbconvert_exporter": "python",
   "pygments_lexer": "ipython3",
   "version": "3.11.5"
  }
 },
 "nbformat": 4,
 "nbformat_minor": 5
}
